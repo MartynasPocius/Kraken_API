{
 "cells": [
  {
   "cell_type": "code",
   "execution_count": null,
   "metadata": {},
   "outputs": [],
   "source": [
    "from app import KrakenExchange\n",
    "\n",
    "api_key = 'API KEY'\n",
    "api_secret = 'API SECRET'\n",
    "kraken = KrakenExchange(api_key, api_secret)\n",
    "\n",
    "balances = kraken.get_account_balance()\n",
    "print(\"Account Balances:\", balances)\n",
    "\n",
    "ohlcv_data = kraken.get_ohlcv_data(pair='XBTUSD', interval=15)\n",
    "print(\"OHLCV Data for XBTUSD:\", ohlcv_data)\n",
    "\n",
    "order_response = kraken.place_order(pair='XBTUSD', type='buy', ordertype='market', volume='0.001')\n",
    "print(\"Order Response:\", order_response)"
   ]
  },
  {
   "cell_type": "code",
   "execution_count": null,
   "metadata": {},
   "outputs": [],
   "source": []
  }
 ],
 "metadata": {
  "kernelspec": {
   "display_name": "ai_Learning",
   "language": "python",
   "name": "python3"
  },
  "language_info": {
   "codemirror_mode": {
    "name": "ipython",
    "version": 3
   },
   "file_extension": ".py",
   "mimetype": "text/x-python",
   "name": "python",
   "nbconvert_exporter": "python",
   "pygments_lexer": "ipython3",
   "version": "3.9.6"
  }
 },
 "nbformat": 4,
 "nbformat_minor": 2
}
